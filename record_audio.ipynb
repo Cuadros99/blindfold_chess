{
 "cells": [
  {
   "cell_type": "code",
   "execution_count": 11,
   "metadata": {},
   "outputs": [],
   "source": [
    "import pyaudio\n",
    "import wave\n",
    "import os"
   ]
  },
  {
   "cell_type": "code",
   "execution_count": 12,
   "metadata": {},
   "outputs": [],
   "source": [
    "# Parâmetros de gravação\n",
    "FORMAT = pyaudio.paInt16\n",
    "CHANNELS = 1\n",
    "RATE = 16000\n",
    "CHUNK = 1024\n",
    "RECORD_SECONDS = 5\n",
    "WAVE_OUTPUT_FILENAME = \"audio.wav\""
   ]
  },
  {
   "cell_type": "code",
   "execution_count": 17,
   "metadata": {},
   "outputs": [
    {
     "name": "stdout",
     "output_type": "stream",
     "text": [
      "Gravando...\n",
      "Encerrado\n"
     ]
    }
   ],
   "source": [
    "audio = pyaudio.PyAudio()\n",
    "\n",
    "# Abrir stream\n",
    "stream = audio.open(format=FORMAT, channels=CHANNELS,\n",
    "                    rate=RATE, input=True,\n",
    "                    frames_per_buffer=CHUNK)\n",
    "\n",
    "print(\"Gravando...\")\n",
    "frames = []\n",
    "\n",
    "# Gravar áudio\n",
    "for i in range(0, int(RATE / CHUNK * RECORD_SECONDS)):\n",
    "    data = stream.read(CHUNK)\n",
    "    frames.append(data)\n",
    "\n",
    "print(\"Encerrado\")\n",
    "\n",
    "# Parar gravação\n",
    "stream.stop_stream()\n",
    "stream.close()\n",
    "audio.terminate()\n",
    "\n",
    "dir_path = os.getcwd()\n",
    "file_path = os.path.join(dir_path, 'audio-plays', WAVE_OUTPUT_FILENAME)\n",
    "\n",
    "# Salvar gravação como arquivo WAV\n",
    "wave_file = wave.open(file_path, 'wb')\n",
    "wave_file.setnchannels(CHANNELS)\n",
    "wave_file.setsampwidth(audio.get_sample_size(FORMAT))\n",
    "wave_file.setframerate(RATE)\n",
    "wave_file.writeframes(b''.join(frames))\n",
    "wave_file.close()"
   ]
  },
  {
   "cell_type": "code",
   "execution_count": 15,
   "metadata": {},
   "outputs": [],
   "source": []
  },
  {
   "cell_type": "code",
   "execution_count": null,
   "metadata": {},
   "outputs": [],
   "source": []
  }
 ],
 "metadata": {
  "kernelspec": {
   "display_name": "venv",
   "language": "python",
   "name": "python3"
  },
  "language_info": {
   "codemirror_mode": {
    "name": "ipython",
    "version": 3
   },
   "file_extension": ".py",
   "mimetype": "text/x-python",
   "name": "python",
   "nbconvert_exporter": "python",
   "pygments_lexer": "ipython3",
   "version": "3.11.9"
  }
 },
 "nbformat": 4,
 "nbformat_minor": 2
}
