{
 "cells": [
  {
   "cell_type": "code",
   "execution_count": 1,
   "metadata": {},
   "outputs": [],
   "source": [
    "from google.cloud import speech_v1p1beta1 as speech\n",
    "from google.oauth2 import service_account\n",
    "import io\n",
    "import re\n",
    "import os\n",
    "from unidecode import unidecode"
   ]
  },
  {
   "cell_type": "code",
   "execution_count": 2,
   "metadata": {},
   "outputs": [],
   "source": [
    "# Substitua pelo caminho do seu arquivo de credenciais JSON\n",
    "credenciais = \"credentials.json\"\n",
    "\n",
    "# Carregar as credenciais\n",
    "credentials = service_account.Credentials.from_service_account_file(credenciais)\n",
    "\n",
    "# Instanciar o cliente de Speech-to-Text\n",
    "client = speech.SpeechClient(credentials=credentials)"
   ]
  },
  {
   "cell_type": "code",
   "execution_count": 3,
   "metadata": {},
   "outputs": [],
   "source": [
    "def transcribe(content):\n",
    "\n",
    "    # Configuração do áudio\n",
    "    audio = speech.RecognitionAudio(content=content)\n",
    "    # config = speech.RecognitionConfig(\n",
    "    #     encoding=speech.RecognitionConfig.AudioEncoding.MP3,  # Alterado para MP3\n",
    "    #     sample_rate_hertz=48000,\n",
    "    #     language_code=\"pt-BR\",\n",
    "    # )\n",
    "\n",
    "    # Solicitar a transcrição\n",
    "    response = client.recognize(config=config, audio=audio)\n",
    "    # response = client.recognize(config=config, audio=audio)\n",
    "\n",
    "    transcriptions = [result.alternatives[0].transcript for result in response.results]\n",
    "\n",
    "    return \" \".join(transcriptions)"
   ]
  },
  {
   "cell_type": "code",
   "execution_count": 4,
   "metadata": {},
   "outputs": [],
   "source": [
    "def parse_response(transcription):\n",
    "    text = unidecode(transcription)\n",
    "    pattern = r'([a-hA-H]).*(\\d).*([a-hA-H]).*(\\d)'\n",
    "    match = re.search(pattern, text)\n",
    "    elements = match.groups()\n",
    "    formatted_elements = [element.upper() if element.isalpha() else element for element in elements]\n",
    "\n",
    "    response = {\n",
    "        \"transcription\": transcription,\n",
    "        \"move\": formatted_elements[0] + formatted_elements[1] + ' ' + formatted_elements[2] + formatted_elements[3],\n",
    "        \"org_letter\": formatted_elements[0],\n",
    "        \"org_num\": formatted_elements[1],\n",
    "        \"dst_letter\": formatted_elements[2],\n",
    "        \"dst_num\": formatted_elements[3]\n",
    "    }\n",
    "\n",
    "    return response\n",
    "    "
   ]
  },
  {
   "cell_type": "code",
   "execution_count": 5,
   "metadata": {},
   "outputs": [],
   "source": [
    "def get_move():\n",
    "    # Caminho para o arquivo de áudio a ser testado\n",
    "    audio_file_path = os.path.join(os.getcwd(), 'audio-plays', \"audio.wav\")\n",
    "\n",
    "    # Carregar o arquivo de áudio\n",
    "    with io.open(audio_file_path, \"rb\") as audio_file:\n",
    "        content = audio_file.read()\n",
    "\n",
    "    # Transcreve o audio\n",
    "    txt = transcribe(content)\n",
    "    # Parseia a jogada transcrita\n",
    "    response = parse_response(txt)\n",
    "    \n",
    "    # Deleta o arquivo da jogada transcrita\n",
    "    os.remove(audio_file_path)\n",
    "\n",
    "    return response"
   ]
  },
  {
   "cell_type": "code",
   "execution_count": 6,
   "metadata": {},
   "outputs": [
    {
     "name": "stdout",
     "output_type": "stream",
     "text": [
      " * Serving Flask app '__main__'\n",
      " * Debug mode: off\n"
     ]
    },
    {
     "name": "stderr",
     "output_type": "stream",
     "text": [
      "WARNING: This is a development server. Do not use it in a production deployment. Use a production WSGI server instead.\n",
      " * Running on all addresses (0.0.0.0)\n",
      " * Running on http://127.0.0.1:5000\n",
      " * Running on http://172.16.129.2:5000\n",
      "Press CTRL+C to quit\n"
     ]
    }
   ],
   "source": [
    "from flask import Flask, request, jsonify\n",
    "from google.cloud import speech_v1p1beta1 as speech\n",
    "from google.oauth2 import service_account\n",
    "import io\n",
    "\n",
    "app = Flask(__name__)\n",
    "\n",
    "# Substitua pelo caminho do seu arquivo de credenciais JSON\n",
    "credenciais = \"credentials.json\"\n",
    "\n",
    "# Carregar as credenciais\n",
    "credentials = service_account.Credentials.from_service_account_file(credenciais)\n",
    "\n",
    "# Instanciar o cliente de Speech-to-Text\n",
    "client = speech.SpeechClient(credentials=credentials)\n",
    "\n",
    "@app.route('/get_move', methods=['GET'])\n",
    "def get_move_from_audio():\n",
    "    \n",
    "    response = get_move()\n",
    "\n",
    "    return jsonify({\"response\": response})\n",
    "\n",
    "\n",
    "@app.route('/transcribe', methods=['POST'])\n",
    "def transcribe_audio():\n",
    "    if 'file' not in request.files:\n",
    "        return jsonify({\"error\": \"No file part\"}), 400\n",
    "    \n",
    "    file = request.files['file']\n",
    "\n",
    "    if file.filename == '':\n",
    "        return jsonify({\"error\": \"No selected file\"}), 400\n",
    "\n",
    "    content = file.read()\n",
    "\n",
    "    transcription = transcribe(content)\n",
    "\n",
    "    response = parse_response(transcription)\n",
    "\n",
    "    return jsonify({\"response\": response})\n",
    "\n",
    "if __name__ == '__main__':\n",
    "    app.run(host='0.0.0.0', port=5000)\n"
   ]
  },
  {
   "cell_type": "code",
   "execution_count": null,
   "metadata": {},
   "outputs": [],
   "source": []
  }
 ],
 "metadata": {
  "kernelspec": {
   "display_name": "venv",
   "language": "python",
   "name": "python3"
  },
  "language_info": {
   "codemirror_mode": {
    "name": "ipython",
    "version": 3
   },
   "file_extension": ".py",
   "mimetype": "text/x-python",
   "name": "python",
   "nbconvert_exporter": "python",
   "pygments_lexer": "ipython3",
   "version": "3.11.9"
  }
 },
 "nbformat": 4,
 "nbformat_minor": 2
}
